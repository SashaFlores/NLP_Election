{
 "cells": [
  {
   "cell_type": "markdown",
   "metadata": {},
   "source": [
    "# 1- Fetch Tweets for the 2 presidential candidates:"
   ]
  },
  {
   "cell_type": "code",
   "execution_count": 1,
   "metadata": {},
   "outputs": [
    {
     "name": "stderr",
     "output_type": "stream",
     "text": [
      "\n",
      "Bad key \"text.kerning_factor\" on line 4 in\n",
      "C:\\Users\\ooshy\\anaconda3\\envs\\pyvizenv\\lib\\site-packages\\matplotlib\\mpl-data\\stylelib\\_classic_test_patch.mplstyle.\n",
      "You probably need to get an updated matplotlibrc file from\n",
      "http://github.com/matplotlib/matplotlib/blob/master/matplotlibrc.template\n",
      "or from the matplotlib source distribution\n"
     ]
    }
   ],
   "source": [
    "# import Laib:\n",
    "import tweepy\n",
    "from textblob import TextBlob\n",
    "from wordcloud import WordCloud\n",
    "import pandas as pd\n",
    "import numpy as np\n",
    "import re\n",
    "import os\n",
    "from dotenv import load_dotenv\n",
    "import matplotlib.pyplot as plt"
   ]
  },
  {
   "cell_type": "code",
   "execution_count": 2,
   "metadata": {},
   "outputs": [
    {
     "data": {
      "text/plain": [
       "True"
      ]
     },
     "execution_count": 2,
     "metadata": {},
     "output_type": "execute_result"
    }
   ],
   "source": [
    "load_dotenv()"
   ]
  },
  {
   "cell_type": "markdown",
   "metadata": {},
   "source": [
    "# twitter API Credentials\n",
    "api = os.getenv('consumer_key')\n",
    "api_secret = os.getenv('consumer_secret')\n",
    "token = os.getenv('access_token')\n",
    "token_secret = os.getenv('access_token_secret')"
   ]
  },
  {
   "cell_type": "markdown",
   "metadata": {},
   "source": [
    "# authorizwe access\n",
    "api = tweepy.API(consumer_key=api,\n",
    "                consumer_secret=api_secret,\n",
    "                access_token=token, \n",
    "                access_token_secret=token_secret,\n",
    "                tweet_mode='extended')"
   ]
  },
  {
   "cell_type": "code",
   "execution_count": 14,
   "metadata": {},
   "outputs": [],
   "source": [
    "# twitter API Credentials\n",
    "consumer_key = '7TDTYjMYolTTZmmemdhiYHEkF'\n",
    "consumer_secret = '7UxpqfucZCIBlilIr4qmO9UpDbEhUN5uMc5yfSJCxoHxHTdg4e'\n",
    "access_token = '2639643778-11yy6rCj0UvKPvrtiiXlxCFZO1YVAprN6soPbGB'\n",
    "access_token_secret = 'G5P21F7oIMTZfX1aYDr4xTh53FJqA2PtNT7oiMo7AxL3O'\n",
    "\n",
    "# authorizwe access\n",
    "authenticate = tweepy.OAuthHandler(consumer_key, consumer_secret) \n",
    "authenticate.set_access_token(access_token, access_token_secret) \n",
    "api = tweepy.API(authenticate, wait_on_rate_limit = True)"
   ]
  },
  {
   "cell_type": "code",
   "execution_count": 18,
   "metadata": {},
   "outputs": [
    {
     "data": {
      "text/html": [
       "<div>\n",
       "<style scoped>\n",
       "    .dataframe tbody tr th:only-of-type {\n",
       "        vertical-align: middle;\n",
       "    }\n",
       "\n",
       "    .dataframe tbody tr th {\n",
       "        vertical-align: top;\n",
       "    }\n",
       "\n",
       "    .dataframe thead th {\n",
       "        text-align: right;\n",
       "    }\n",
       "</style>\n",
       "<table border=\"1\" class=\"dataframe\">\n",
       "  <thead>\n",
       "    <tr style=\"text-align: right;\">\n",
       "      <th></th>\n",
       "      <th>Tweets</th>\n",
       "    </tr>\n",
       "  </thead>\n",
       "  <tbody>\n",
       "    <tr>\n",
       "      <th>0</th>\n",
       "      <td>It’s amazing. Twitter refuses to allow the any...</td>\n",
       "    </tr>\n",
       "    <tr>\n",
       "      <th>1</th>\n",
       "      <td>Volunteer to be a Trump Election Poll Watcher....</td>\n",
       "    </tr>\n",
       "    <tr>\n",
       "      <th>2</th>\n",
       "      <td>RT @jeffmason1: Rally crowd for @realDonaldTru...</td>\n",
       "    </tr>\n",
       "    <tr>\n",
       "      <th>3</th>\n",
       "      <td>Incredible evening, incredible people. Love Ne...</td>\n",
       "    </tr>\n",
       "    <tr>\n",
       "      <th>4</th>\n",
       "      <td>Covid, Covid, Covid is the unified chant of th...</td>\n",
       "    </tr>\n",
       "  </tbody>\n",
       "</table>\n",
       "</div>"
      ],
      "text/plain": [
       "                                              Tweets\n",
       "0  It’s amazing. Twitter refuses to allow the any...\n",
       "1  Volunteer to be a Trump Election Poll Watcher....\n",
       "2  RT @jeffmason1: Rally crowd for @realDonaldTru...\n",
       "3  Incredible evening, incredible people. Love Ne...\n",
       "4  Covid, Covid, Covid is the unified chant of th..."
      ]
     },
     "execution_count": 18,
     "metadata": {},
     "output_type": "execute_result"
    }
   ],
   "source": [
    "# get 5000 Donald Trump tweets \n",
    "posts = api.user_timeline(screen_name='realDonaldTrump', count = 200, lang ='en', tweet_mode='extended')\n",
    "\n",
    "# store tweets in df:\n",
    "df_trump = pd.DataFrame([tweet.full_text for tweet in posts], columns=['Tweets'])\n",
    "df_trump.head()\n"
   ]
  },
  {
   "cell_type": "code",
   "execution_count": 19,
   "metadata": {},
   "outputs": [
    {
     "data": {
      "text/plain": [
       "Tweets    200\n",
       "dtype: int64"
      ]
     },
     "execution_count": 19,
     "metadata": {},
     "output_type": "execute_result"
    }
   ],
   "source": [
    "df_trump.count()"
   ]
  },
  {
   "cell_type": "code",
   "execution_count": 20,
   "metadata": {},
   "outputs": [],
   "source": [
    "# save tweets in df so i don't need to run cells:\n",
    "\n",
    "df_trump.to_csv('trump.csv')"
   ]
  },
  {
   "cell_type": "code",
   "execution_count": 21,
   "metadata": {},
   "outputs": [
    {
     "data": {
      "text/plain": [
       "Tweets    200\n",
       "dtype: int64"
      ]
     },
     "execution_count": 21,
     "metadata": {},
     "output_type": "execute_result"
    }
   ],
   "source": [
    "# get 1000 Joe Biden tweets \n",
    "posts = api.user_timeline(screen_name='JoeBiden', count = 200, lang ='en', tweet_mode='extended')\n",
    "\n",
    "# store tweets in df:\n",
    "df_biden = pd.DataFrame([tweet.full_text for tweet in posts], columns=['Tweets'])\n",
    "df_biden.count()"
   ]
  },
  {
   "cell_type": "code",
   "execution_count": 23,
   "metadata": {},
   "outputs": [],
   "source": [
    "df_biden.to_csv('biden.csv')"
   ]
  },
  {
   "cell_type": "markdown",
   "metadata": {},
   "source": [
    "-------------"
   ]
  },
  {
   "cell_type": "markdown",
   "metadata": {},
   "source": [
    "# 2- Fetch Replies to the 2 presidential candidates tweet:"
   ]
  },
  {
   "cell_type": "code",
   "execution_count": 26,
   "metadata": {},
   "outputs": [],
   "source": [
    "candidate_name = ['realDonaldTrump','JoeBiden']\n",
    "\n",
    "replies_trump = []\n",
    "replies_biden = []\n",
    "\n",
    "\n",
    "for candidate in candidate_name:\n",
    "    for tweet in tweepy.Cursor(api.search,q='to:'+candidate, result_type='recent',timeout=999999).items(5000):\n",
    "        if candidate == \"realDonaldTrump\":\n",
    "            replies_trump.append(tweet)\n",
    "            \n",
    "        elif candidate == \"JoeBiden\":\n",
    "            replies_biden.append(tweet)"
   ]
  },
  {
   "cell_type": "code",
   "execution_count": 27,
   "metadata": {},
   "outputs": [],
   "source": [
    "# converting the files into dataframe and to csv\n",
    "\n",
    "biden_reviews = pd.DataFrame()\n",
    "trump_reviews = pd.DataFrame()\n",
    "\n",
    "df_names = ['biden_reviews','trump_reviews']\n",
    "\n",
    "for tweet in replies_trump:\n",
    "    row = {'user': tweet.user.screen_name, 'text': tweet.text.replace('\\n', ' ')}\n",
    "    trump_reviews = trump_reviews.append(row, ignore_index=True)\n",
    "    \n",
    "    \n",
    "for tweet in replies_biden:\n",
    "    row = {'user': tweet.user.screen_name, 'text': tweet.text.replace('\\n', ' ')}\n",
    "    biden_reviews = biden_reviews.append(row, ignore_index=True)\n",
    "    "
   ]
  },
  {
   "cell_type": "code",
   "execution_count": 28,
   "metadata": {},
   "outputs": [
    {
     "name": "stdout",
     "output_type": "stream",
     "text": [
      "text    5000\n",
      "user    5000\n",
      "dtype: int64\n"
     ]
    },
    {
     "data": {
      "text/html": [
       "<div>\n",
       "<style scoped>\n",
       "    .dataframe tbody tr th:only-of-type {\n",
       "        vertical-align: middle;\n",
       "    }\n",
       "\n",
       "    .dataframe tbody tr th {\n",
       "        vertical-align: top;\n",
       "    }\n",
       "\n",
       "    .dataframe thead th {\n",
       "        text-align: right;\n",
       "    }\n",
       "</style>\n",
       "<table border=\"1\" class=\"dataframe\">\n",
       "  <thead>\n",
       "    <tr style=\"text-align: right;\">\n",
       "      <th></th>\n",
       "      <th>text</th>\n",
       "      <th>user</th>\n",
       "    </tr>\n",
       "  </thead>\n",
       "  <tbody>\n",
       "    <tr>\n",
       "      <th>0</th>\n",
       "      <td>@JoeBiden When you going to address tucker Car...</td>\n",
       "      <td>Kubiesnacks</td>\n",
       "    </tr>\n",
       "    <tr>\n",
       "      <th>1</th>\n",
       "      <td>@JoeBiden Yes it is</td>\n",
       "      <td>Mashrur79254532</td>\n",
       "    </tr>\n",
       "    <tr>\n",
       "      <th>2</th>\n",
       "      <td>RT @mallen2010: @JoeBiden https://t.co/xkOfMYIHiw</td>\n",
       "      <td>lockbidenup</td>\n",
       "    </tr>\n",
       "    <tr>\n",
       "      <th>3</th>\n",
       "      <td>@JoeBiden Jackass!</td>\n",
       "      <td>TheSteveODell70</td>\n",
       "    </tr>\n",
       "    <tr>\n",
       "      <th>4</th>\n",
       "      <td>RT @ScottPresler: @JoeBiden Ask your supporter...</td>\n",
       "      <td>PhelanGinger</td>\n",
       "    </tr>\n",
       "  </tbody>\n",
       "</table>\n",
       "</div>"
      ],
      "text/plain": [
       "                                                text             user\n",
       "0  @JoeBiden When you going to address tucker Car...      Kubiesnacks\n",
       "1                                @JoeBiden Yes it is  Mashrur79254532\n",
       "2  RT @mallen2010: @JoeBiden https://t.co/xkOfMYIHiw      lockbidenup\n",
       "3                                 @JoeBiden Jackass!  TheSteveODell70\n",
       "4  RT @ScottPresler: @JoeBiden Ask your supporter...     PhelanGinger"
      ]
     },
     "execution_count": 28,
     "metadata": {},
     "output_type": "execute_result"
    }
   ],
   "source": [
    "print(biden_reviews.count())\n",
    "biden_reviews.head()"
   ]
  },
  {
   "cell_type": "code",
   "execution_count": 29,
   "metadata": {},
   "outputs": [
    {
     "name": "stdout",
     "output_type": "stream",
     "text": [
      "text    5000\n",
      "user    5000\n",
      "dtype: int64\n"
     ]
    },
    {
     "data": {
      "text/html": [
       "<div>\n",
       "<style scoped>\n",
       "    .dataframe tbody tr th:only-of-type {\n",
       "        vertical-align: middle;\n",
       "    }\n",
       "\n",
       "    .dataframe tbody tr th {\n",
       "        vertical-align: top;\n",
       "    }\n",
       "\n",
       "    .dataframe thead th {\n",
       "        text-align: right;\n",
       "    }\n",
       "</style>\n",
       "<table border=\"1\" class=\"dataframe\">\n",
       "  <thead>\n",
       "    <tr style=\"text-align: right;\">\n",
       "      <th></th>\n",
       "      <th>text</th>\n",
       "      <th>user</th>\n",
       "    </tr>\n",
       "  </thead>\n",
       "  <tbody>\n",
       "    <tr>\n",
       "      <th>0</th>\n",
       "      <td>@realDonaldTrump https://t.co/SGghHawNrB</td>\n",
       "      <td>huntfornancy</td>\n",
       "    </tr>\n",
       "    <tr>\n",
       "      <th>1</th>\n",
       "      <td>@realDonaldTrump https://t.co/c7J7gsXx88</td>\n",
       "      <td>BabsBray</td>\n",
       "    </tr>\n",
       "    <tr>\n",
       "      <th>2</th>\n",
       "      <td>@realDonaldTrump You mispelled enforcer.</td>\n",
       "      <td>LarryPfalzer</td>\n",
       "    </tr>\n",
       "    <tr>\n",
       "      <th>3</th>\n",
       "      <td>@realDonaldTrump It's a real issue that's why....</td>\n",
       "      <td>imhere_82</td>\n",
       "    </tr>\n",
       "    <tr>\n",
       "      <th>4</th>\n",
       "      <td>@realDonaldTrump Army for Trump? Isn't this in...</td>\n",
       "      <td>nottubs</td>\n",
       "    </tr>\n",
       "  </tbody>\n",
       "</table>\n",
       "</div>"
      ],
      "text/plain": [
       "                                                text          user\n",
       "0           @realDonaldTrump https://t.co/SGghHawNrB  huntfornancy\n",
       "1           @realDonaldTrump https://t.co/c7J7gsXx88      BabsBray\n",
       "2           @realDonaldTrump You mispelled enforcer.  LarryPfalzer\n",
       "3  @realDonaldTrump It's a real issue that's why....     imhere_82\n",
       "4  @realDonaldTrump Army for Trump? Isn't this in...       nottubs"
      ]
     },
     "execution_count": 29,
     "metadata": {},
     "output_type": "execute_result"
    }
   ],
   "source": [
    "print(trump_reviews.count())\n",
    "trump_reviews.head()"
   ]
  },
  {
   "cell_type": "code",
   "execution_count": 30,
   "metadata": {},
   "outputs": [],
   "source": [
    "# store files\n",
    "trump_reviews.to_csv('trump_reviews.csv')\n",
    "biden_reviews.to_csv('biden_reviews.csv')"
   ]
  }
 ],
 "metadata": {
  "kernelspec": {
   "display_name": "Python [conda env:pyvizenv]",
   "language": "python",
   "name": "conda-env-pyvizenv-py"
  },
  "language_info": {
   "codemirror_mode": {
    "name": "ipython",
    "version": 3
   },
   "file_extension": ".py",
   "mimetype": "text/x-python",
   "name": "python",
   "nbconvert_exporter": "python",
   "pygments_lexer": "ipython3",
   "version": "3.7.7"
  }
 },
 "nbformat": 4,
 "nbformat_minor": 4
}
